{
 "cells": [
  {
   "cell_type": "markdown",
   "metadata": {
    "editable": true
   },
   "source": [
    "# Requests Lab\n",
    "\n",
    "Welcome to the requests lab! \n",
    "\n",
    "In this lab you'll work on the Udacity bookshelf practice application to build a Flask API that responds to GET, PATCH, POST and DELETE requests, handles pagination and request arguments. \n",
    "\n",
    "You'll primarily be working in `/backend/flaskr/__init__.py` file, where you'll find detailed instructions marked `@TODO` as well as suggestions for how to `TEST` the application after writing each route. \n",
    "\n",
    "## How to run the application\n",
    "\n",
    "### Step 1 - Initial setup\n",
    "\n",
    "There is a `setup.sh` script in the `workspace` directory. Run the below code from the `workspace` directory: \n",
    "```\n",
    "bash setup.sh\n",
    "```\n",
    "\n",
    "This script installs the Python dependencies needed for this lab, starts the PostgreSQL service, and runs the following two other scripts:\n",
    "1. `/backend/setup.sql` - It contains the SQL commands to create two databases - *bookshelf* and *bookshelf_test*. Also, it creates a new user - *student* with a password 'student' and grants all privileges on the above two databases. \n",
    "\n",
    "2. `/backend/books.psql` - It contains the SQL commands to create `public.books` table and a `public.books_id_seq` sequence along with the necessary constraints. \n",
    "\n",
    "\n",
    "You should only need to run this script once. However, **you can anytime re-run this script to re-create the database.** \n",
    "\n",
    "\n",
    "**Important**: After having the initial setup, you can repopulate the database anytime by running the following commands in a new terminal:\n",
    "```bash\n",
    "su - postgres bash -c \"dropdb bookshelf\"\n",
    "su - postgres bash -c \"createdb bookshelf\"\n",
    "su - postgres bash -c \"psql bookshelf < /home/workspace/backend/books.psql\"\n",
    "```\n",
    "\n",
    "If you want to enter into the psql prompt, run the following in the terminal:\n",
    "```bash\n",
    "su - postgres bash -c \"psql bookshelf\"\n",
    "# Once you are inside the psql prompt, you can play around\n",
    "\\dt\n",
    "\\d books\n",
    "```\n"
   ]
  },
  {
   "cell_type": "markdown",
   "metadata": {
    "editable": true
   },
   "source": [
    "### Step 2 - Start the frontend server\n",
    "Use the buttons below to start/stop the frontend application. "
   ]
  },
  {
   "cell_type": "markdown",
   "metadata": {
    "editable": true,
    "ulab": {
     "buttons": {
      "ulab-button-36fab080": {
       "bashCommand": "",
       "filesToOpen": [],
       "isPreviewButton": true,
       "runInBackground": false,
       "style": "primary",
       "text": "OPEN APP IN A NEW TAB",
       "toggleOffText": "HIDE SOLUTION",
       "toggleOnText": "SHOW SOLUTION"
      },
      "ulab-button-513bd941": {
       "bashCommand": "\\u0003",
       "filesToOpen": [],
       "isPreviewButton": false,
       "runInBackground": false,
       "style": "primary",
       "text": "STOP FRONT END APP SERVER",
       "toggleOffText": "HIDE SOLUTION",
       "toggleOnText": "SHOW SOLUTION"
      },
      "ulab-button-956dca92": {
       "bashCommand": "cd ~/ && cd /home/workspace/frontend && npm start",
       "filesToOpen": [],
       "isPreviewButton": false,
       "runInBackground": false,
       "style": "primary",
       "text": "START FRONTEND APP SERVER",
       "toggleOffText": "HIDE SOLUTION",
       "toggleOnText": "SHOW SOLUTION"
      }
     }
    }
   },
   "source": [
    "<button id=\"ulab-button-956dca92\" class=\"ulab-btn--primary\"></button><button id=\"ulab-button-36fab080\" class=\"ulab-btn--primary\"></button><button id=\"ulab-button-513bd941\" class=\"ulab-btn--primary\"></button>"
   ]
  },
  {
   "cell_type": "markdown",
   "metadata": {
    "editable": true
   },
   "source": [
    "\n",
    "### Step 3: Complete the ToDos\n",
    "Go to *File > New > Terminal* to open up a new terminal window. Navigate to the `/backend/flaskr/__init__.py` file, and finish all the `@TODO` thereby building out the necessary routes and logic to get the backend of your app up and running. \n",
    "\n",
    "\n",
    "**You have to create and define the following endpoints in the `/backend/flaskr/__init__.py` file**:\n",
    "\n",
    "1. Write a route that retrieves all books, paginated. \n",
    "\n",
    "2. Write a route that will update a single book's rating. \n",
    "\n",
    "3. Write a route that will delete a single book. \n",
    "\n",
    "4. Write a route that create a new book. \n",
    "\n",
    "**Read in the inline comments in the file for more details.** \n",
    "\n",
    "\n",
    "After finishing the backend ToDos, **confirm that your endpoints are as same as the ones defined in the frontend.** To do so, search the keyword \"ToDo\" using the following command in the workspace directory:\n",
    "```bash\n",
    "# Search whole word, recursiveely, case-insensitive, and display the files having the keyword\n",
    "grep -wril \"todo\" ./frontend/src/\n",
    "```\n",
    "Then, confirm/verify the endpoints in the following files:\n",
    "```bash\n",
    "./frontend/src/components/FormView.js\n",
    "./frontend/src/App.js\n",
    "```\n",
    "\n",
    "\n",
    "Once you've written your code, start your (backend) Flask server by running the command below from the `/backend/` directory.\n",
    "\n",
    "```\n",
    "cd backend\n",
    "export FLASK_APP=flaskr\n",
    "export FLASK_ENV=development\n",
    "flask run\n",
    "```"
   ]
  },
  {
   "cell_type": "markdown",
   "metadata": {
    "editable": true
   },
   "source": [
    "### Step 4: Run the app\n",
    "When you have everything up and running, open the frontend application using the \"Open App in a New Tab\" button above. \n",
    "\n",
    "Currently, there is no functionality present with the application. "
   ]
  },
  {
   "cell_type": "markdown",
   "metadata": {
    "editable": true
   },
   "source": [
    "### How to stop the flask server?\n",
    "The default address:port for each of the services are:\n",
    "\n",
    "1. Backend (flask): http://127.0.0.1:5000/ (use CURL within the workspace)\n",
    "\n",
    "2. Frontend: Click on the button, **Open App in New Tab**, available above.\n",
    "  \n",
    "If you'd try to run a server in a terminal when it's already running on a different terminal, it may give you an error as:\n",
    "```\n",
    "OSError: [Errno 98] Address already in use\n",
    "```\n",
    "In such a case, closing the previous terminal may not shut down the backend server. \n",
    "\n",
    "So, you can explicitely identify and kill a proccess as:\n",
    "```\n",
    "ps -a\n",
    "sudo kill <PID>\n",
    "```"
   ]
  },
  {
   "cell_type": "markdown",
   "metadata": {
    "editable": true
   },
   "source": []
  }
 ],
 "metadata": {
  "kernelspec": {
   "display_name": "Python 3",
   "language": "python",
   "name": "python3"
  },
  "language_info": {
   "codemirror_mode": {
    "name": "ipython",
    "version": 3
   },
   "file_extension": ".py",
   "mimetype": "text/x-python",
   "name": "python",
   "nbconvert_exporter": "python",
   "pygments_lexer": "ipython3",
   "version": "3.6.3"
  },
  "ulab_nb_type": "guided"
 },
 "nbformat": 4,
 "nbformat_minor": 4
}
